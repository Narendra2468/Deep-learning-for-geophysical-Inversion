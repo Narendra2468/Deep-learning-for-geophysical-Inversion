{
  "nbformat": 4,
  "nbformat_minor": 0,
  "metadata": {
    "colab": {
      "provenance": [],
      "authorship_tag": "ABX9TyNo56BobULWB54adriXDv63",
      "include_colab_link": true
    },
    "kernelspec": {
      "name": "python3",
      "display_name": "Python 3"
    },
    "language_info": {
      "name": "python"
    }
  },
  "cells": [
    {
      "cell_type": "markdown",
      "metadata": {
        "id": "view-in-github",
        "colab_type": "text"
      },
      "source": [
        "<a href=\"https://colab.research.google.com/github/Narendra2468/Deep-learning-for-geophysical-Inversion/blob/main/initial_steps.ipynb\" target=\"_parent\"><img src=\"https://colab.research.google.com/assets/colab-badge.svg\" alt=\"Open In Colab\"/></a>"
      ]
    },
    {
      "cell_type": "code",
      "execution_count": 21,
      "metadata": {
        "id": "SDOQ0RJBBMN6"
      },
      "outputs": [],
      "source": [
        "import torch\n",
        "import torch.nn as nn\n",
        "import torch.nn.functional as F"
      ]
    },
    {
      "cell_type": "markdown",
      "source": [
        "for no hidden Layer"
      ],
      "metadata": {
        "id": "18TK-vhBS042"
      }
    },
    {
      "cell_type": "code",
      "source": [
        "class linearRegression(nn.Module):\n",
        "  def __init__(self, num_inputs,lr,sigma=0.01):\n",
        "    super().__init__()\n",
        "    self.w=torch.normal(0,sigma, (num_inputs, 1), requires_grad=True)\n",
        "    self.b=torch.zeros(1,requires_grad=True)\n",
        "\n",
        "  def forward(self, X):\n",
        "    return torch.matmul(X, self.w)+self.b\n"
      ],
      "metadata": {
        "id": "r1rmVlo8BO40"
      },
      "execution_count": 13,
      "outputs": []
    },
    {
      "cell_type": "markdown",
      "source": [
        "for hidden layers present"
      ],
      "metadata": {
        "id": "QA-5M6IVS8UM"
      }
    },
    {
      "cell_type": "code",
      "source": [
        "# create the model class that inherits the nn.Module\n",
        "class Model(nn.Module):\n",
        "  # Input layer (no. feauters) --> Hidden layer1(no. of neurons(n)) --> H2 (n) --> output(targte)\n",
        "  def __init__(self, in_features=4, h1=6, h2=3, out_features=1):\n",
        "    super().__init__() # instantiate our nn.module\n",
        "    self.fc1=nn.Linear(in_features, h1)\n",
        "    self.fc2=nn.Linear(h1, h2)\n",
        "    self.out=nn.Linear(h2, out_features)\n",
        "\n",
        "  def forward(self, x):\n",
        "    x=F.relu(self.fc1(x))\n",
        "    x=F.relu(self.fc2(x))\n",
        "    x=self.out(x)\n",
        "\n",
        "    return x\n"
      ],
      "metadata": {
        "id": "jzVYfr5zTASc"
      },
      "execution_count": 26,
      "outputs": []
    },
    {
      "cell_type": "code",
      "source": [
        "# pick a manul seed for randomization\n",
        "torch.manual_seed(41)\n",
        "#creates an instance of the model\n",
        "model=Model()\n"
      ],
      "metadata": {
        "id": "s4jXM8h2ghh1"
      },
      "execution_count": 27,
      "outputs": []
    },
    {
      "cell_type": "code",
      "source": [
        "model"
      ],
      "metadata": {
        "colab": {
          "base_uri": "https://localhost:8080/"
        },
        "id": "q0wVT_tLkNZF",
        "outputId": "c14a10f0-5143-49cf-8897-30c100b3dcd5"
      },
      "execution_count": 28,
      "outputs": [
        {
          "output_type": "execute_result",
          "data": {
            "text/plain": [
              "Model(\n",
              "  (fc1): Linear(in_features=4, out_features=6, bias=True)\n",
              "  (fc2): Linear(in_features=6, out_features=3, bias=True)\n",
              "  (out): Linear(in_features=3, out_features=1, bias=True)\n",
              ")"
            ]
          },
          "metadata": {},
          "execution_count": 28
        }
      ]
    },
    {
      "cell_type": "code",
      "source": [],
      "metadata": {
        "id": "QfuVHrN-kWjf"
      },
      "execution_count": null,
      "outputs": []
    }
  ]
}